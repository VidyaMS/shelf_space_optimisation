{
 "cells": [
  {
   "cell_type": "markdown",
   "metadata": {},
   "source": [
    "This excercise is for retail optimisation of shelf space display of products depending upon the sales lift per product on the shelf space. There are totally 8 Product types per shelf space from three different Brands .There are totally 10 shelfs.  \n",
    "The constraints are that : Only one product can be selected among the 8 products.  \n",
    "Also , each product type can be selected for display on the 10 shelfs at the most 'n' number of times , which can be 0 , to 1 or 2 etc.  \n",
    "\n"
   ]
  },
  {
   "cell_type": "code",
   "execution_count": 1,
   "metadata": {
    "collapsed": true
   },
   "outputs": [],
   "source": [
    "import pandas as pd\n",
    "import numpy as np\n",
    "import pulp"
   ]
  },
  {
   "cell_type": "code",
   "execution_count": 2,
   "metadata": {
    "collapsed": true
   },
   "outputs": [],
   "source": [
    "## Matrix of sales lift.\n",
    "sales_lift = np.array([[950,818,650,848,630,648,842,842],\n",
    "                [691, 849,615 ,700,653,598,563,563 ],\n",
    "                [427,413,349,347,407,237,465,465],\n",
    "                [345,153,282, 301,477,432, 313,313],\n",
    "                [464,470,126,398,534,312,326,326],\n",
    "                [281,144,283,200,168,107, 148,148],\n",
    "                [238,500,291,434,465,488,544,544],\n",
    "                [138,86,119,149,92,136,119,119],\n",
    "                [127,124,141,54,130,140,75,75],\n",
    "                [70,141,78,106,69,51,58,58]])"
   ]
  },
  {
   "cell_type": "code",
   "execution_count": 3,
   "metadata": {},
   "outputs": [
    {
     "data": {
      "text/plain": [
       "array([[950, 818, 650, 848, 630, 648, 842, 842],\n",
       "       [691, 849, 615, 700, 653, 598, 563, 563],\n",
       "       [427, 413, 349, 347, 407, 237, 465, 465],\n",
       "       [345, 153, 282, 301, 477, 432, 313, 313],\n",
       "       [464, 470, 126, 398, 534, 312, 326, 326],\n",
       "       [281, 144, 283, 200, 168, 107, 148, 148],\n",
       "       [238, 500, 291, 434, 465, 488, 544, 544],\n",
       "       [138,  86, 119, 149,  92, 136, 119, 119],\n",
       "       [127, 124, 141,  54, 130, 140,  75,  75],\n",
       "       [ 70, 141,  78, 106,  69,  51,  58,  58]])"
      ]
     },
     "execution_count": 3,
     "metadata": {},
     "output_type": "execute_result"
    }
   ],
   "source": [
    "sales_lift"
   ]
  },
  {
   "cell_type": "code",
   "execution_count": 4,
   "metadata": {
    "collapsed": true
   },
   "outputs": [],
   "source": [
    "shelf_number = [1,2,3,4,5,6,7,8,9,10]"
   ]
  },
  {
   "cell_type": "code",
   "execution_count": 5,
   "metadata": {
    "collapsed": true
   },
   "outputs": [],
   "source": [
    "products = ['Unilever_1','Unilever_2','Unilever_3','Godrej_4','Godrej_5','Godrej_6','Dabur_7','Dabur_8']"
   ]
  },
  {
   "cell_type": "code",
   "execution_count": 6,
   "metadata": {
    "collapsed": true
   },
   "outputs": [],
   "source": [
    "model = pulp.LpProblem('shelf_space_opt', pulp.LpMaximize)"
   ]
  },
  {
   "cell_type": "code",
   "execution_count": 7,
   "metadata": {
    "collapsed": true
   },
   "outputs": [],
   "source": [
    "X = pulp.LpVariable.dicts('X%s_%s', (shelf_number,products),  cat = 'Binary')"
   ]
  },
  {
   "cell_type": "code",
   "execution_count": 8,
   "metadata": {},
   "outputs": [
    {
     "data": {
      "text/plain": [
       "X1_Unilever_1"
      ]
     },
     "execution_count": 8,
     "metadata": {},
     "output_type": "execute_result"
    }
   ],
   "source": [
    "X[1]['Unilever_1']"
   ]
  },
  {
   "cell_type": "code",
   "execution_count": 9,
   "metadata": {
    "collapsed": true
   },
   "outputs": [],
   "source": [
    "S = dict(zip(shelf_number,[dict(zip(products,sales_lift[0])),\n",
    "                       dict(zip(products,sales_lift[1])),\n",
    "                       dict(zip(products,sales_lift[2])),\n",
    "                        dict(zip(products, sales_lift[3])),\n",
    "                        dict(zip(products, sales_lift[4])),\n",
    "                        dict(zip(products, sales_lift[5])),\n",
    "                        dict(zip(products, sales_lift[6])),\n",
    "                        dict(zip(products, sales_lift[7])),\n",
    "                        dict(zip(products, sales_lift[8])),\n",
    "                        dict(zip(products, sales_lift[9]))]))"
   ]
  },
  {
   "cell_type": "code",
   "execution_count": 10,
   "metadata": {},
   "outputs": [
    {
     "data": {
      "text/plain": [
       "{'Dabur_7': 842,\n",
       " 'Dabur_8': 842,\n",
       " 'Godrej_4': 848,\n",
       " 'Godrej_5': 630,\n",
       " 'Godrej_6': 648,\n",
       " 'Unilever_1': 950,\n",
       " 'Unilever_2': 818,\n",
       " 'Unilever_3': 650}"
      ]
     },
     "execution_count": 10,
     "metadata": {},
     "output_type": "execute_result"
    }
   ],
   "source": [
    "S[1]"
   ]
  },
  {
   "cell_type": "code",
   "execution_count": 11,
   "metadata": {
    "collapsed": true
   },
   "outputs": [],
   "source": [
    "## Objective - to maximise sales \n",
    "\n",
    "sales = sum(sum(S[i][j] * X[i][j] for j in products) for i in shelf_number)\n",
    "model += sales"
   ]
  },
  {
   "cell_type": "code",
   "execution_count": 12,
   "metadata": {
    "collapsed": true
   },
   "outputs": [],
   "source": [
    "## Constraints \n",
    "\n",
    "## Only one product per brand per shelf\n",
    "for i in shelf_number:\n",
    "    model += sum(X[i][j] for j in products) <= 1\n",
    "    \n",
    "## Number of times a product can be marketed \n",
    "no_times_markt = dict(zip(products,[1,0,0,2,2,3,1,1]))\n",
    "for j in products:\n",
    "    model += sum(X[i][j] for i in shelf_number) == no_times_markt[j]\n",
    "\n"
   ]
  },
  {
   "cell_type": "code",
   "execution_count": 13,
   "metadata": {},
   "outputs": [
    {
     "data": {
      "text/plain": [
       "{'Dabur_7': 1,\n",
       " 'Dabur_8': 1,\n",
       " 'Godrej_4': 2,\n",
       " 'Godrej_5': 2,\n",
       " 'Godrej_6': 3,\n",
       " 'Unilever_1': 1,\n",
       " 'Unilever_2': 0,\n",
       " 'Unilever_3': 0}"
      ]
     },
     "execution_count": 13,
     "metadata": {},
     "output_type": "execute_result"
    }
   ],
   "source": [
    "no_times_markt"
   ]
  },
  {
   "cell_type": "code",
   "execution_count": 14,
   "metadata": {},
   "outputs": [
    {
     "data": {
      "text/plain": [
       "[X10_Dabur_7,\n",
       " X10_Dabur_8,\n",
       " X10_Godrej_4,\n",
       " X10_Godrej_5,\n",
       " X10_Godrej_6,\n",
       " X10_Unilever_1,\n",
       " X10_Unilever_2,\n",
       " X10_Unilever_3,\n",
       " X1_Dabur_7,\n",
       " X1_Dabur_8,\n",
       " X1_Godrej_4,\n",
       " X1_Godrej_5,\n",
       " X1_Godrej_6,\n",
       " X1_Unilever_1,\n",
       " X1_Unilever_2,\n",
       " X1_Unilever_3,\n",
       " X2_Dabur_7,\n",
       " X2_Dabur_8,\n",
       " X2_Godrej_4,\n",
       " X2_Godrej_5,\n",
       " X2_Godrej_6,\n",
       " X2_Unilever_1,\n",
       " X2_Unilever_2,\n",
       " X2_Unilever_3,\n",
       " X3_Dabur_7,\n",
       " X3_Dabur_8,\n",
       " X3_Godrej_4,\n",
       " X3_Godrej_5,\n",
       " X3_Godrej_6,\n",
       " X3_Unilever_1,\n",
       " X3_Unilever_2,\n",
       " X3_Unilever_3,\n",
       " X4_Dabur_7,\n",
       " X4_Dabur_8,\n",
       " X4_Godrej_4,\n",
       " X4_Godrej_5,\n",
       " X4_Godrej_6,\n",
       " X4_Unilever_1,\n",
       " X4_Unilever_2,\n",
       " X4_Unilever_3,\n",
       " X5_Dabur_7,\n",
       " X5_Dabur_8,\n",
       " X5_Godrej_4,\n",
       " X5_Godrej_5,\n",
       " X5_Godrej_6,\n",
       " X5_Unilever_1,\n",
       " X5_Unilever_2,\n",
       " X5_Unilever_3,\n",
       " X6_Dabur_7,\n",
       " X6_Dabur_8,\n",
       " X6_Godrej_4,\n",
       " X6_Godrej_5,\n",
       " X6_Godrej_6,\n",
       " X6_Unilever_1,\n",
       " X6_Unilever_2,\n",
       " X6_Unilever_3,\n",
       " X7_Dabur_7,\n",
       " X7_Dabur_8,\n",
       " X7_Godrej_4,\n",
       " X7_Godrej_5,\n",
       " X7_Godrej_6,\n",
       " X7_Unilever_1,\n",
       " X7_Unilever_2,\n",
       " X7_Unilever_3,\n",
       " X8_Dabur_7,\n",
       " X8_Dabur_8,\n",
       " X8_Godrej_4,\n",
       " X8_Godrej_5,\n",
       " X8_Godrej_6,\n",
       " X8_Unilever_1,\n",
       " X8_Unilever_2,\n",
       " X8_Unilever_3,\n",
       " X9_Dabur_7,\n",
       " X9_Dabur_8,\n",
       " X9_Godrej_4,\n",
       " X9_Godrej_5,\n",
       " X9_Godrej_6,\n",
       " X9_Unilever_1,\n",
       " X9_Unilever_2,\n",
       " X9_Unilever_3]"
      ]
     },
     "execution_count": 14,
     "metadata": {},
     "output_type": "execute_result"
    }
   ],
   "source": [
    "## save model to LP file \n",
    "model.writeLP(\"shelf_space_opt.Lp\")"
   ]
  },
  {
   "cell_type": "code",
   "execution_count": 15,
   "metadata": {},
   "outputs": [
    {
     "name": "stdout",
     "output_type": "stream",
     "text": [
      "shelf_space_opt:\n",
      "MAXIMIZE\n",
      "58*X10_Dabur_7 + 58*X10_Dabur_8 + 106*X10_Godrej_4 + 69*X10_Godrej_5 + 51*X10_Godrej_6 + 70*X10_Unilever_1 + 141*X10_Unilever_2 + 78*X10_Unilever_3 + 842*X1_Dabur_7 + 842*X1_Dabur_8 + 848*X1_Godrej_4 + 630*X1_Godrej_5 + 648*X1_Godrej_6 + 950*X1_Unilever_1 + 818*X1_Unilever_2 + 650*X1_Unilever_3 + 563*X2_Dabur_7 + 563*X2_Dabur_8 + 700*X2_Godrej_4 + 653*X2_Godrej_5 + 598*X2_Godrej_6 + 691*X2_Unilever_1 + 849*X2_Unilever_2 + 615*X2_Unilever_3 + 465*X3_Dabur_7 + 465*X3_Dabur_8 + 347*X3_Godrej_4 + 407*X3_Godrej_5 + 237*X3_Godrej_6 + 427*X3_Unilever_1 + 413*X3_Unilever_2 + 349*X3_Unilever_3 + 313*X4_Dabur_7 + 313*X4_Dabur_8 + 301*X4_Godrej_4 + 477*X4_Godrej_5 + 432*X4_Godrej_6 + 345*X4_Unilever_1 + 153*X4_Unilever_2 + 282*X4_Unilever_3 + 326*X5_Dabur_7 + 326*X5_Dabur_8 + 398*X5_Godrej_4 + 534*X5_Godrej_5 + 312*X5_Godrej_6 + 464*X5_Unilever_1 + 470*X5_Unilever_2 + 126*X5_Unilever_3 + 148*X6_Dabur_7 + 148*X6_Dabur_8 + 200*X6_Godrej_4 + 168*X6_Godrej_5 + 107*X6_Godrej_6 + 281*X6_Unilever_1 + 144*X6_Unilever_2 + 283*X6_Unilever_3 + 544*X7_Dabur_7 + 544*X7_Dabur_8 + 434*X7_Godrej_4 + 465*X7_Godrej_5 + 488*X7_Godrej_6 + 238*X7_Unilever_1 + 500*X7_Unilever_2 + 291*X7_Unilever_3 + 119*X8_Dabur_7 + 119*X8_Dabur_8 + 149*X8_Godrej_4 + 92*X8_Godrej_5 + 136*X8_Godrej_6 + 138*X8_Unilever_1 + 86*X8_Unilever_2 + 119*X8_Unilever_3 + 75*X9_Dabur_7 + 75*X9_Dabur_8 + 54*X9_Godrej_4 + 130*X9_Godrej_5 + 140*X9_Godrej_6 + 127*X9_Unilever_1 + 124*X9_Unilever_2 + 141*X9_Unilever_3 + 0\n",
      "SUBJECT TO\n",
      "_C1: X1_Dabur_7 + X1_Dabur_8 + X1_Godrej_4 + X1_Godrej_5 + X1_Godrej_6\n",
      " + X1_Unilever_1 + X1_Unilever_2 + X1_Unilever_3 <= 1\n",
      "\n",
      "_C2: X2_Dabur_7 + X2_Dabur_8 + X2_Godrej_4 + X2_Godrej_5 + X2_Godrej_6\n",
      " + X2_Unilever_1 + X2_Unilever_2 + X2_Unilever_3 <= 1\n",
      "\n",
      "_C3: X3_Dabur_7 + X3_Dabur_8 + X3_Godrej_4 + X3_Godrej_5 + X3_Godrej_6\n",
      " + X3_Unilever_1 + X3_Unilever_2 + X3_Unilever_3 <= 1\n",
      "\n",
      "_C4: X4_Dabur_7 + X4_Dabur_8 + X4_Godrej_4 + X4_Godrej_5 + X4_Godrej_6\n",
      " + X4_Unilever_1 + X4_Unilever_2 + X4_Unilever_3 <= 1\n",
      "\n",
      "_C5: X5_Dabur_7 + X5_Dabur_8 + X5_Godrej_4 + X5_Godrej_5 + X5_Godrej_6\n",
      " + X5_Unilever_1 + X5_Unilever_2 + X5_Unilever_3 <= 1\n",
      "\n",
      "_C6: X6_Dabur_7 + X6_Dabur_8 + X6_Godrej_4 + X6_Godrej_5 + X6_Godrej_6\n",
      " + X6_Unilever_1 + X6_Unilever_2 + X6_Unilever_3 <= 1\n",
      "\n",
      "_C7: X7_Dabur_7 + X7_Dabur_8 + X7_Godrej_4 + X7_Godrej_5 + X7_Godrej_6\n",
      " + X7_Unilever_1 + X7_Unilever_2 + X7_Unilever_3 <= 1\n",
      "\n",
      "_C8: X8_Dabur_7 + X8_Dabur_8 + X8_Godrej_4 + X8_Godrej_5 + X8_Godrej_6\n",
      " + X8_Unilever_1 + X8_Unilever_2 + X8_Unilever_3 <= 1\n",
      "\n",
      "_C9: X9_Dabur_7 + X9_Dabur_8 + X9_Godrej_4 + X9_Godrej_5 + X9_Godrej_6\n",
      " + X9_Unilever_1 + X9_Unilever_2 + X9_Unilever_3 <= 1\n",
      "\n",
      "_C10: X10_Dabur_7 + X10_Dabur_8 + X10_Godrej_4 + X10_Godrej_5 + X10_Godrej_6\n",
      " + X10_Unilever_1 + X10_Unilever_2 + X10_Unilever_3 <= 1\n",
      "\n",
      "_C11: X10_Unilever_1 + X1_Unilever_1 + X2_Unilever_1 + X3_Unilever_1\n",
      " + X4_Unilever_1 + X5_Unilever_1 + X6_Unilever_1 + X7_Unilever_1\n",
      " + X8_Unilever_1 + X9_Unilever_1 = 1\n",
      "\n",
      "_C12: X10_Unilever_2 + X1_Unilever_2 + X2_Unilever_2 + X3_Unilever_2\n",
      " + X4_Unilever_2 + X5_Unilever_2 + X6_Unilever_2 + X7_Unilever_2\n",
      " + X8_Unilever_2 + X9_Unilever_2 = 0\n",
      "\n",
      "_C13: X10_Unilever_3 + X1_Unilever_3 + X2_Unilever_3 + X3_Unilever_3\n",
      " + X4_Unilever_3 + X5_Unilever_3 + X6_Unilever_3 + X7_Unilever_3\n",
      " + X8_Unilever_3 + X9_Unilever_3 = 0\n",
      "\n",
      "_C14: X10_Godrej_4 + X1_Godrej_4 + X2_Godrej_4 + X3_Godrej_4 + X4_Godrej_4\n",
      " + X5_Godrej_4 + X6_Godrej_4 + X7_Godrej_4 + X8_Godrej_4 + X9_Godrej_4 = 2\n",
      "\n",
      "_C15: X10_Godrej_5 + X1_Godrej_5 + X2_Godrej_5 + X3_Godrej_5 + X4_Godrej_5\n",
      " + X5_Godrej_5 + X6_Godrej_5 + X7_Godrej_5 + X8_Godrej_5 + X9_Godrej_5 = 2\n",
      "\n",
      "_C16: X10_Godrej_6 + X1_Godrej_6 + X2_Godrej_6 + X3_Godrej_6 + X4_Godrej_6\n",
      " + X5_Godrej_6 + X6_Godrej_6 + X7_Godrej_6 + X8_Godrej_6 + X9_Godrej_6 = 3\n",
      "\n",
      "_C17: X10_Dabur_7 + X1_Dabur_7 + X2_Dabur_7 + X3_Dabur_7 + X4_Dabur_7\n",
      " + X5_Dabur_7 + X6_Dabur_7 + X7_Dabur_7 + X8_Dabur_7 + X9_Dabur_7 = 1\n",
      "\n",
      "_C18: X10_Dabur_8 + X1_Dabur_8 + X2_Dabur_8 + X3_Dabur_8 + X4_Dabur_8\n",
      " + X5_Dabur_8 + X6_Dabur_8 + X7_Dabur_8 + X8_Dabur_8 + X9_Dabur_8 = 1\n",
      "\n",
      "VARIABLES\n",
      "0 <= X10_Dabur_7 <= 1 Integer\n",
      "0 <= X10_Dabur_8 <= 1 Integer\n",
      "0 <= X10_Godrej_4 <= 1 Integer\n",
      "0 <= X10_Godrej_5 <= 1 Integer\n",
      "0 <= X10_Godrej_6 <= 1 Integer\n",
      "0 <= X10_Unilever_1 <= 1 Integer\n",
      "0 <= X10_Unilever_2 <= 1 Integer\n",
      "0 <= X10_Unilever_3 <= 1 Integer\n",
      "0 <= X1_Dabur_7 <= 1 Integer\n",
      "0 <= X1_Dabur_8 <= 1 Integer\n",
      "0 <= X1_Godrej_4 <= 1 Integer\n",
      "0 <= X1_Godrej_5 <= 1 Integer\n",
      "0 <= X1_Godrej_6 <= 1 Integer\n",
      "0 <= X1_Unilever_1 <= 1 Integer\n",
      "0 <= X1_Unilever_2 <= 1 Integer\n",
      "0 <= X1_Unilever_3 <= 1 Integer\n",
      "0 <= X2_Dabur_7 <= 1 Integer\n",
      "0 <= X2_Dabur_8 <= 1 Integer\n",
      "0 <= X2_Godrej_4 <= 1 Integer\n",
      "0 <= X2_Godrej_5 <= 1 Integer\n",
      "0 <= X2_Godrej_6 <= 1 Integer\n",
      "0 <= X2_Unilever_1 <= 1 Integer\n",
      "0 <= X2_Unilever_2 <= 1 Integer\n",
      "0 <= X2_Unilever_3 <= 1 Integer\n",
      "0 <= X3_Dabur_7 <= 1 Integer\n",
      "0 <= X3_Dabur_8 <= 1 Integer\n",
      "0 <= X3_Godrej_4 <= 1 Integer\n",
      "0 <= X3_Godrej_5 <= 1 Integer\n",
      "0 <= X3_Godrej_6 <= 1 Integer\n",
      "0 <= X3_Unilever_1 <= 1 Integer\n",
      "0 <= X3_Unilever_2 <= 1 Integer\n",
      "0 <= X3_Unilever_3 <= 1 Integer\n",
      "0 <= X4_Dabur_7 <= 1 Integer\n",
      "0 <= X4_Dabur_8 <= 1 Integer\n",
      "0 <= X4_Godrej_4 <= 1 Integer\n",
      "0 <= X4_Godrej_5 <= 1 Integer\n",
      "0 <= X4_Godrej_6 <= 1 Integer\n",
      "0 <= X4_Unilever_1 <= 1 Integer\n",
      "0 <= X4_Unilever_2 <= 1 Integer\n",
      "0 <= X4_Unilever_3 <= 1 Integer\n",
      "0 <= X5_Dabur_7 <= 1 Integer\n",
      "0 <= X5_Dabur_8 <= 1 Integer\n",
      "0 <= X5_Godrej_4 <= 1 Integer\n",
      "0 <= X5_Godrej_5 <= 1 Integer\n",
      "0 <= X5_Godrej_6 <= 1 Integer\n",
      "0 <= X5_Unilever_1 <= 1 Integer\n",
      "0 <= X5_Unilever_2 <= 1 Integer\n",
      "0 <= X5_Unilever_3 <= 1 Integer\n",
      "0 <= X6_Dabur_7 <= 1 Integer\n",
      "0 <= X6_Dabur_8 <= 1 Integer\n",
      "0 <= X6_Godrej_4 <= 1 Integer\n",
      "0 <= X6_Godrej_5 <= 1 Integer\n",
      "0 <= X6_Godrej_6 <= 1 Integer\n",
      "0 <= X6_Unilever_1 <= 1 Integer\n",
      "0 <= X6_Unilever_2 <= 1 Integer\n",
      "0 <= X6_Unilever_3 <= 1 Integer\n",
      "0 <= X7_Dabur_7 <= 1 Integer\n",
      "0 <= X7_Dabur_8 <= 1 Integer\n",
      "0 <= X7_Godrej_4 <= 1 Integer\n",
      "0 <= X7_Godrej_5 <= 1 Integer\n",
      "0 <= X7_Godrej_6 <= 1 Integer\n",
      "0 <= X7_Unilever_1 <= 1 Integer\n",
      "0 <= X7_Unilever_2 <= 1 Integer\n",
      "0 <= X7_Unilever_3 <= 1 Integer\n",
      "0 <= X8_Dabur_7 <= 1 Integer\n",
      "0 <= X8_Dabur_8 <= 1 Integer\n",
      "0 <= X8_Godrej_4 <= 1 Integer\n",
      "0 <= X8_Godrej_5 <= 1 Integer\n",
      "0 <= X8_Godrej_6 <= 1 Integer\n",
      "0 <= X8_Unilever_1 <= 1 Integer\n",
      "0 <= X8_Unilever_2 <= 1 Integer\n",
      "0 <= X8_Unilever_3 <= 1 Integer\n",
      "0 <= X9_Dabur_7 <= 1 Integer\n",
      "0 <= X9_Dabur_8 <= 1 Integer\n",
      "0 <= X9_Godrej_4 <= 1 Integer\n",
      "0 <= X9_Godrej_5 <= 1 Integer\n",
      "0 <= X9_Godrej_6 <= 1 Integer\n",
      "0 <= X9_Unilever_1 <= 1 Integer\n",
      "0 <= X9_Unilever_2 <= 1 Integer\n",
      "0 <= X9_Unilever_3 <= 1 Integer\n",
      "\n"
     ]
    }
   ],
   "source": [
    "## View the model \n",
    "print(model)"
   ]
  },
  {
   "cell_type": "code",
   "execution_count": 16,
   "metadata": {},
   "outputs": [
    {
     "data": {
      "text/plain": [
       "1"
      ]
     },
     "execution_count": 16,
     "metadata": {},
     "output_type": "execute_result"
    }
   ],
   "source": [
    "## Solve the model \n",
    "model.solve()"
   ]
  },
  {
   "cell_type": "code",
   "execution_count": 17,
   "metadata": {},
   "outputs": [
    {
     "name": "stdout",
     "output_type": "stream",
     "text": [
      "Status  Optimal\n"
     ]
    }
   ],
   "source": [
    "## print status and the variables \n",
    "print(\"Status \",pulp.LpStatus[model.status])"
   ]
  },
  {
   "cell_type": "code",
   "execution_count": 18,
   "metadata": {},
   "outputs": [
    {
     "name": "stdout",
     "output_type": "stream",
     "text": [
      "Objective : 4197.0\n"
     ]
    }
   ],
   "source": [
    "print(\"Objective :\",pulp.value(model.objective))"
   ]
  },
  {
   "cell_type": "code",
   "execution_count": 19,
   "metadata": {},
   "outputs": [
    {
     "name": "stdout",
     "output_type": "stream",
     "text": [
      "\n",
      "Shelf Space Allocation\n",
      "------------------------\n",
      "product   Dabur_7  Dabur_8  Godrej_4  Godrej_5  Godrej_6  Unilever_1  \\\n",
      "shelf_no                                                               \n",
      "1             0.0      0.0       0.0       0.0       0.0         1.0   \n",
      "2             0.0      0.0       1.0       0.0       0.0         0.0   \n",
      "3             1.0      0.0       0.0       0.0       0.0         0.0   \n",
      "4             0.0      0.0       0.0       1.0       0.0         0.0   \n",
      "5             0.0      0.0       0.0       1.0       0.0         0.0   \n",
      "6             0.0      0.0       1.0       0.0       0.0         0.0   \n",
      "7             0.0      1.0       0.0       0.0       0.0         0.0   \n",
      "8             0.0      0.0       0.0       0.0       1.0         0.0   \n",
      "9             0.0      0.0       0.0       0.0       1.0         0.0   \n",
      "10            0.0      0.0       0.0       0.0       1.0         0.0   \n",
      "\n",
      "product   Unilever_2  Unilever_3  \n",
      "shelf_no                          \n",
      "1                0.0         0.0  \n",
      "2                0.0         0.0  \n",
      "3                0.0         0.0  \n",
      "4                0.0         0.0  \n",
      "5                0.0         0.0  \n",
      "6                0.0         0.0  \n",
      "7                0.0         0.0  \n",
      "8                0.0         0.0  \n",
      "9                0.0         0.0  \n",
      "10               0.0         0.0  \n"
     ]
    }
   ],
   "source": [
    "results = []\n",
    "for s in shelf_number:\n",
    "    for p in products:\n",
    "        var_output = {\n",
    "        \"shelf_no\" : s,\n",
    "        \"product\": p,\n",
    "        \"Allocation\" : X[s][p].varValue\n",
    "        }\n",
    "\n",
    "        results.append(var_output)\n",
    "##\n",
    "shelf_space_allocation_df = pd.DataFrame.from_records(results).sort_values([\"shelf_no\",'product'])\n",
    "\n",
    "print(\"\\nShelf Space Allocation\")\n",
    "print(\"------------------------\")\n",
    "print(shelf_space_allocation_df.pivot(index= 'shelf_no', columns = 'product')['Allocation'])"
   ]
  },
  {
   "cell_type": "code",
   "execution_count": 141,
   "metadata": {},
   "outputs": [
    {
     "name": "stdout",
     "output_type": "stream",
     "text": [
      "\n",
      "X10_Godrej_6 = 1.0\n",
      "\n",
      "X1_Unilever_1 = 1.0\n",
      "\n",
      "X2_Godrej_4 = 1.0\n",
      "\n",
      "X3_Dabur_7 = 1.0\n",
      "\n",
      "X4_Godrej_5 = 1.0\n",
      "\n",
      "X5_Godrej_5 = 1.0\n",
      "\n",
      "X6_Godrej_4 = 1.0\n",
      "\n",
      "X7_Dabur_8 = 1.0\n",
      "\n",
      "X8_Godrej_6 = 1.0\n",
      "\n",
      "X9_Godrej_6 = 1.0\n"
     ]
    }
   ],
   "source": [
    "for v in model.variables():\n",
    "    if v.varValue > 0:\n",
    "        print()\n",
    "        print(v.name , \"=\", v.varValue)"
   ]
  },
  {
   "cell_type": "markdown",
   "metadata": {},
   "source": [
    "Hence we can achieve a maximum sales 0f 4197 with the given constraints."
   ]
  },
  {
   "cell_type": "markdown",
   "metadata": {},
   "source": [
    "We can further work on looking at improving the profitability by knowing the cost and price per product given the sales lift.This would then change the shelf space assortment.  "
   ]
  },
  {
   "cell_type": "code",
   "execution_count": null,
   "metadata": {
    "collapsed": true
   },
   "outputs": [],
   "source": []
  }
 ],
 "metadata": {
  "kernelspec": {
   "display_name": "Python 3",
   "language": "python",
   "name": "python3"
  },
  "language_info": {
   "codemirror_mode": {
    "name": "ipython",
    "version": 3
   },
   "file_extension": ".py",
   "mimetype": "text/x-python",
   "name": "python",
   "nbconvert_exporter": "python",
   "pygments_lexer": "ipython3",
   "version": "3.6.3"
  }
 },
 "nbformat": 4,
 "nbformat_minor": 2
}
